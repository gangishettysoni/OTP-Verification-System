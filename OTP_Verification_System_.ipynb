{
  "nbformat": 4,
  "nbformat_minor": 0,
  "metadata": {
    "colab": {
      "provenance": [],
      "authorship_tag": "ABX9TyPACjus/doSOWkGZ8A3Thtd",
      "include_colab_link": true
    },
    "kernelspec": {
      "name": "python3",
      "display_name": "Python 3"
    },
    "language_info": {
      "name": "python"
    }
  },
  "cells": [
    {
      "cell_type": "markdown",
      "metadata": {
        "id": "view-in-github",
        "colab_type": "text"
      },
      "source": [
        "<a href=\"https://colab.research.google.com/github/gangishettysoni/OTP-Verification-System/blob/main/OTP_Verification_System_.ipynb\" target=\"_parent\"><img src=\"https://colab.research.google.com/assets/colab-badge.svg\" alt=\"Open In Colab\"/></a>"
      ]
    },
    {
      "cell_type": "code",
      "execution_count": null,
      "metadata": {
        "id": "G8jETOAUWYBj"
      },
      "outputs": [],
      "source": [
        "import random\n",
        "import smtplib\n",
        "from email.message import EmailMessage\n",
        "import time\n",
        "import hashlib\n",
        "\n",
        "def generate_otp():\n",
        "    return ''.join([str(random.randint(0, 9)) for _ in range(6)])\n",
        "\n",
        "def send_email(to_mail, otp):\n",
        "    server = smtplib.SMTP('smtp.gmail.com', 587)\n",
        "    server.starttls()\n",
        "    from_mail = 'letsmatch1529@gmail.com'\n",
        "    password = \"yqsk lmyx yeca yayt\"\n",
        "    server.login(from_mail, password)\n",
        "    msg = EmailMessage()\n",
        "    msg['Subject'] = \"OTP Verification\"\n",
        "    msg['From'] = from_mail\n",
        "    msg['To'] = to_mail\n",
        "    msg.set_content(f\"Your OTP is: {otp}\")\n",
        "    server.send_message(msg)\n",
        "    server.quit()\n",
        "\n",
        "def verify_otp(input_otp, correct_otp, start_time, time_limit):\n",
        "    return input_otp == correct_otp and (time.time() - start_time) <= time_limit\n",
        "\n",
        "#def generate_second_factor():\n",
        "    #return hashlib.sha256(str(random.randint(100000, 999999)).encode()).hexdigest()[:8]\n",
        "\n",
        "# Main script\n",
        "max_attempts = 3\n",
        "time_limit = 300  # 5 minutes\n",
        "\n",
        "to_mail = input(\"Enter your email: \")\n",
        "otp = generate_otp()\n",
        "send_email(to_mail, otp)\n",
        "\n",
        "start_time = time.time()\n",
        "attempts = 0\n",
        "\n",
        "while attempts < max_attempts:\n",
        "    attempts_left = max_attempts - attempts\n",
        "    input_otp = input(f\"Enter OTP (Attempts left: {attempts_left}): \")\n",
        "\n",
        "    if verify_otp(input_otp, otp, start_time, time_limit):\n",
        "        print(\"OTP Verified. Proceeding to second step verification.\")\n",
        "        second_factor = generate_second_factor()\n",
        "        print(f\"Your second factor code is: {second_factor}\")\n",
        "        second_input = input(\"Enter the second factor code: \")\n",
        "        if second_input == second_factor:\n",
        "            print(\"Two-step verification successful. Access granted.\")\n",
        "            break\n",
        "        else:\n",
        "            print(\"Invalid second factor. Verification failed.\")\n",
        "            break\n",
        "    else:\n",
        "        if (time.time() - start_time) > time_limit:\n",
        "            print(\"Time limit exceeded. OTP has expired.\")\n",
        "            break\n",
        "        else:\n",
        "            print(\"Invalid OTP.\")\n",
        "        attempts += 1\n",
        "\n",
        "        if attempts < max_attempts:\n",
        "            print(f\"You have {attempts_left - 1} attempts left.\")\n",
        "        else:\n",
        "            print(\"Maximum number of attempts reached. OTP verification failed.\")\n",
        "\n",
        "if attempts == max_attempts and (time.time() - start_time) <= time_limit:\n",
        "    print(\"Maximum number of attempts reached. OTP verification failed.\")"
      ]
    }
  ]
}